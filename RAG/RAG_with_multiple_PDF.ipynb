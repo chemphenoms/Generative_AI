{
 "cells": [
  {
   "cell_type": "code",
   "execution_count": 1,
   "id": "8b88a147-3666-48e2-b503-f5dc2e3110b5",
   "metadata": {},
   "outputs": [],
   "source": [
    "import os\n",
    "import sys\n",
    "import pypdf\n",
    "\n",
    "from langchain.llms import Ollama\n",
    "from langchain_chroma import Chroma\n",
    "from langchain_community.embeddings.fastembed import FastEmbedEmbeddings\n",
    "\n",
    "from langchain_community.document_loaders import PyPDFLoader\n",
    "from langchain.text_splitter import RecursiveCharacterTextSplitter\n",
    "from langchain.prompts import PromptTemplate\n",
    "from langchain.chains.combine_documents import create_stuff_documents_chain\n",
    "from langchain.chains import create_retrieval_chain"
   ]
  },
  {
   "cell_type": "code",
   "execution_count": 2,
   "id": "ce4f7fdf-c77a-4274-b5d9-50358a6a8dcb",
   "metadata": {},
   "outputs": [],
   "source": [
    "def ingest_multiple_pdfs(folder_path):\n",
    "    # List all PDF files in the folder\n",
    "    pdf_files = [f for f in os.listdir(folder_path) if f.endswith('.pdf')]\n",
    "\n",
    "    all_chunks = []  # To store all chunks from all PDFs\n",
    "    total_pages = 0  # To track total number of pages processed\n",
    "\n",
    "    for pdf_file in pdf_files:\n",
    "        file_path = os.path.join(folder_path, pdf_file)\n",
    "        print(f\"Processing: {pdf_file}\")\n",
    "        \n",
    "        # Load and split the PDF\n",
    "        loader = PyPDFLoader(file_path)\n",
    "        pages = loader.load_and_split()\n",
    "        total_pages += len(pages)\n",
    "\n",
    "        # Split the pages by char\n",
    "        text_splitter = RecursiveCharacterTextSplitter(\n",
    "            chunk_size=1024,\n",
    "            chunk_overlap=100,\n",
    "            length_function=len,\n",
    "            add_start_index=True,\n",
    "        )\n",
    "\n",
    "        chunks = text_splitter.split_documents(pages)\n",
    "        all_chunks.extend(chunks)  # Add chunks from this PDF to the total\n",
    "        print(f\"Split {len(pages)} pages into {len(chunks)} chunks from {pdf_file}.\")\n",
    "\n",
    "    print(f\"Processed {total_pages} pages into {len(all_chunks)} chunks across all PDFs.\")\n",
    "\n",
    "    # Create embeddings\n",
    "    embedding = FastEmbedEmbeddings()\n",
    "\n",
    "    # Create and persist vector store\n",
    "    #vector_store = Chroma.from_documents(\n",
    "    Chroma.from_documents(\n",
    "        documents=all_chunks,\n",
    "        embedding=embedding,\n",
    "        persist_directory=\"./sql_chroma_db\"\n",
    "    )\n",
    "    print(\"Vector store created and persisted.\")"
   ]
  },
  {
   "cell_type": "code",
   "execution_count": 3,
   "id": "4042d054-95a3-4c3d-ba22-57938d759985",
   "metadata": {},
   "outputs": [
    {
     "name": "stdout",
     "output_type": "stream",
     "text": [
      "Processing: A classical nucleation theory description of active colloid assembly Supplementary Materials.pdf\n",
      "Split 8 pages into 26 chunks from A classical nucleation theory description of active colloid assembly Supplementary Materials.pdf.\n",
      "Processing: Aggregation-fragmentation and individual dynamics of active clusters.pdf\n",
      "Split 16 pages into 57 chunks from Aggregation-fragmentation and individual dynamics of active clusters.pdf.\n",
      "Processing: Classical Nucleation Theory Description of Active Colloid Assembly.pdf\n",
      "Split 12 pages into 40 chunks from Classical Nucleation Theory Description of Active Colloid Assembly.pdf.\n",
      "Processing: Clustering and heterogeneous dynamics in a kinetic Monte Carlo model of self-propelled hard disks.pdf\n",
      "Split 31 pages into 113 chunks from Clustering and heterogeneous dynamics in a kinetic Monte Carlo model of self-propelled hard disks.pdf.\n",
      "Processing: Interrupted Motility Induced Phase Separation in Aligning Active Colloids.pdf\n",
      "Split 11 pages into 33 chunks from Interrupted Motility Induced Phase Separation in Aligning Active Colloids.pdf.\n",
      "Processing: Orientation_order.pdf\n",
      "Split 2 pages into 2 chunks from Orientation_order.pdf.\n",
      "Processing: Supp_Aggregation-fragmentation and individual dynamics of active clusters.pdf\n",
      "Split 4 pages into 11 chunks from Supp_Aggregation-fragmentation and individual dynamics of active clusters.pdf.\n",
      "Processed 84 pages into 282 chunks across all PDFs.\n",
      "Vector store created and persisted.\n"
     ]
    }
   ],
   "source": [
    "#Run this only once to create the vector database \n",
    "folder_path = \"D:\\\\Research\\\\PhD_thesis\\\\16th Semester work\\\\Papers_given_by_Sir\"\n",
    "ingest_multiple_pdfs(folder_path)"
   ]
  },
  {
   "cell_type": "code",
   "execution_count": null,
   "id": "3bb46dd4-9418-4146-91e6-a1bb962f1d39",
   "metadata": {},
   "outputs": [],
   "source": [
    "#Create an access token from Hugging face and use the same as the read and write token below\n",
    "from huggingface_hub import login\n",
    "access_token_read = \"hf_nMedcrxscgRruLcCMGPcUHbYyqcGxdcuzasEDy\"\n",
    "access_token_write = \"hf_nMedcrxscgRruLcCMGPcUHbYyqcGxdcuzasEDy\"\n",
    "login(token = access_token_read)"
   ]
  },
  {
   "cell_type": "code",
   "execution_count": 5,
   "id": "055f5f03-3ee0-48fb-ab29-eacde487f721",
   "metadata": {},
   "outputs": [],
   "source": [
    "def rag_chain():\n",
    "    model = Ollama(model=\"llama3\", base_url=\"http://localhost:11434/\",\n",
    "                    temperature = 0.0)\n",
    "    \n",
    "    prompt = PromptTemplate.from_template(\n",
    "        \"\"\"\n",
    "        <s> [Instructions] You are a friendly assistant. Answer the question based only on the following context. \n",
    "        If you don't know the answer, then reply, No Context availabel for this question {input}. [/Instructions] </s> \n",
    "        [Instructions] Question: {input} \n",
    "        Context: {context} \n",
    "        Answer: [/Instructions]\n",
    "        \"\"\"\n",
    "    )\n",
    "    #Load vector store\n",
    "    embedding = FastEmbedEmbeddings()\n",
    "    vector_store = Chroma(persist_directory=\"./sql_chroma_db\", embedding_function=embedding)\n",
    "\n",
    "    #Create chain\n",
    "    retriever = vector_store.as_retriever(\n",
    "        search_type=\"similarity_score_threshold\",\n",
    "        search_kwargs={\n",
    "            \"k\": 3,\n",
    "            \"score_threshold\": 0.5,\n",
    "        },\n",
    "    )\n",
    "\n",
    "    document_chain = create_stuff_documents_chain(model, prompt)\n",
    "    chain = create_retrieval_chain(retriever, document_chain)\n",
    "\n",
    "    return chain"
   ]
  },
  {
   "cell_type": "code",
   "execution_count": 6,
   "id": "e22acaf8-4d88-4cf2-8e52-8b55396f099e",
   "metadata": {},
   "outputs": [
    {
     "name": "stderr",
     "output_type": "stream",
     "text": [
      "C:\\Users\\chemp\\AppData\\Local\\Temp\\ipykernel_7292\\2621403051.py:2: LangChainDeprecationWarning: The class `Ollama` was deprecated in LangChain 0.3.1 and will be removed in 1.0.0. An updated version of the class exists in the :class:`~langchain-ollama package and should be used instead. To use it run `pip install -U :class:`~langchain-ollama` and import as `from :class:`~langchain_ollama import OllamaLLM``.\n",
      "  model = Ollama(model=\"llama3\", base_url=\"http://localhost:11434/\",\n"
     ]
    }
   ],
   "source": [
    "#Test\n",
    "chain = rag_chain()"
   ]
  },
  {
   "cell_type": "code",
   "execution_count": 7,
   "id": "506e094a-695d-48f8-8cfa-8729cb4c7236",
   "metadata": {},
   "outputs": [
    {
     "name": "stdout",
     "output_type": "stream",
     "text": [
      "Based on the provided context, I can answer your question. The gaps in active particle dynamics are:\n",
      "\n",
      "* Understanding the kinetics of evolution toward the steady state in active systems.\n",
      "* Disentangling the relative role played by self-propulsion and noise in the physics of active Brownian particles.\n",
      "\n",
      "These gaps were mentioned in the text as areas where significant progress has been made, but more work is needed to fully understand the dynamics of active particle systems.\n"
     ]
    }
   ],
   "source": [
    "result = chain.invoke({\"input\": \"What are the gaps in active particle dynamics?\"})\n",
    "print(result[\"answer\"])"
   ]
  },
  {
   "cell_type": "code",
   "execution_count": 8,
   "id": "60f2a335-d771-4d7c-bef7-4244738dd289",
   "metadata": {},
   "outputs": [],
   "source": [
    "#Creating a function for the query search\n",
    "def ask(query: str):\n",
    "    #create chain\n",
    "    chain = rag_chain()\n",
    "    #invoke chain\n",
    "    result = chain.invoke({\"input\": query})\n",
    "    #print results with source\n",
    "    print(result[\"answer\"])\n",
    "    for doc in result[\"context\"]:\n",
    "        print(\"Source: \", doc.metadata[\"source\"])"
   ]
  },
  {
   "cell_type": "code",
   "execution_count": 12,
   "id": "995d479e-7939-4748-84aa-8dec3452bac7",
   "metadata": {},
   "outputs": [
    {
     "name": "stdout",
     "output_type": "stream",
     "text": [
      "Based on the provided context, I can identify some gaps in active particle dynamics:\n",
      "\n",
      "1. **Understanding the kinetics of evolution towards steady states**: While significant progress has been made in understanding stationary distributions, the kinetics of evolution towards these states remain poorly understood.\n",
      "2. **Disentangling the relative role of self-propulsion and noise**: The introduction of η as an additional control parameter allows us to disentangle the relative role of self-propulsion and noise in active Brownian particles, but it is unclear how this will impact our understanding of the dynamics.\n",
      "\n",
      "These gaps highlight areas where further research is needed to better understand the behavior of active particle systems.\n",
      "Source:  D:\\Research\\PhD_thesis\\16th Semester work\\Papers_given_by_Sir\\Clustering and heterogeneous dynamics in a kinetic Monte Carlo model of self-propelled hard disks.pdf\n",
      "Source:  D:\\Research\\PhD_thesis\\16th Semester work\\Papers_given_by_Sir\\Aggregation-fragmentation and individual dynamics of active clusters.pdf\n",
      "Source:  D:\\Research\\PhD_thesis\\16th Semester work\\Papers_given_by_Sir\\Classical Nucleation Theory Description of Active Colloid Assembly.pdf\n"
     ]
    }
   ],
   "source": [
    "ask(\"What are the gaps in active particle dynamics?\")"
   ]
  },
  {
   "cell_type": "code",
   "execution_count": 14,
   "id": "059d9e9f-0df3-491a-92bf-3e3158676bc1",
   "metadata": {},
   "outputs": [
    {
     "name": "stdout",
     "output_type": "stream",
     "text": [
      "Kinetic Monte Carlo simulations are a type of computational method used to analyze the kinetics of statistical models, including off-lattice complex fluids. In this context, kinetic Monte Carlo simulations involve updating the positions of particles sequentially and repeating an elementary trial step that consists of:\n",
      "\n",
      "1. Choosing a particle at random\n",
      "2. Drawing a random displacement from a chosen distribution\n",
      "3. Accepting or rejecting the move based on whether it creates overlap between particles\n",
      "\n",
      "The simulation can be perturbed by introducing noise through small amplitude Monte Carlo moves, allowing for particle displacements that are not uniquely controlled by the direction of the displacement. The strength of this noise is quantified by the quantity η, which compares the relative size of the Monte Carlo moves to the persistent moves.\n",
      "\n",
      "In this specific context, kinetic Monte Carlo simulations are used to study the dynamics of self-propelled hard disks, where activity is controlled by a single control parameter that reduces to the persistence time τ of a persistent random walk motion in the dilute limit.\n",
      "Source:  D:\\Research\\PhD_thesis\\16th Semester work\\Papers_given_by_Sir\\Clustering and heterogeneous dynamics in a kinetic Monte Carlo model of self-propelled hard disks.pdf\n",
      "Source:  D:\\Research\\PhD_thesis\\16th Semester work\\Papers_given_by_Sir\\Clustering and heterogeneous dynamics in a kinetic Monte Carlo model of self-propelled hard disks.pdf\n",
      "Source:  D:\\Research\\PhD_thesis\\16th Semester work\\Papers_given_by_Sir\\Clustering and heterogeneous dynamics in a kinetic Monte Carlo model of self-propelled hard disks.pdf\n"
     ]
    }
   ],
   "source": [
    "ask(\"What is kinetic monte carlo simulations?\")"
   ]
  },
  {
   "cell_type": "code",
   "execution_count": 15,
   "id": "e75910a0",
   "metadata": {},
   "outputs": [
    {
     "name": "stdout",
     "output_type": "stream",
     "text": [
      "According to the provided context, the different phases observed in self-propelled hard disks are:\n",
      "\n",
      "1. Fluid phase\n",
      "2. Clustered phase\n",
      "3. Heterogeneous dynamics phase\n",
      "\n",
      "These phases are described in the paper \"Clustering and heterogeneous dynamics in a kinetic Monte Carlo model of self-propelled hard disks\" by Demian Levis and Ludovic Berthier, published in Physical Review E in 2014.\n",
      "Source:  D:\\Research\\PhD_thesis\\16th Semester work\\Papers_given_by_Sir\\Clustering and heterogeneous dynamics in a kinetic Monte Carlo model of self-propelled hard disks.pdf\n",
      "Source:  D:\\Research\\PhD_thesis\\16th Semester work\\Papers_given_by_Sir\\Clustering and heterogeneous dynamics in a kinetic Monte Carlo model of self-propelled hard disks.pdf\n",
      "Source:  D:\\Research\\PhD_thesis\\16th Semester work\\Papers_given_by_Sir\\Clustering and heterogeneous dynamics in a kinetic Monte Carlo model of self-propelled hard disks.pdf\n"
     ]
    }
   ],
   "source": [
    "ask(\"What are the different phases observed in self-propelled hard disks?\")"
   ]
  },
  {
   "cell_type": "code",
   "execution_count": 17,
   "id": "72e5100d",
   "metadata": {},
   "outputs": [
    {
     "name": "stdout",
     "output_type": "stream",
     "text": [
      "What is cluster size distribution?\n",
      "\n",
      "According to the given context, the cluster mass distribution P(n) is defined as the normalized histogram obtained by measuring the number of clusters containing n particles. In other words, it's a measure of how many clusters have a certain number of particles (n).\n",
      "Source:  D:\\Research\\PhD_thesis\\16th Semester work\\Papers_given_by_Sir\\Clustering and heterogeneous dynamics in a kinetic Monte Carlo model of self-propelled hard disks.pdf\n",
      "Source:  D:\\Research\\PhD_thesis\\16th Semester work\\Papers_given_by_Sir\\Aggregation-fragmentation and individual dynamics of active clusters.pdf\n",
      "Source:  D:\\Research\\PhD_thesis\\16th Semester work\\Papers_given_by_Sir\\A classical nucleation theory description of active colloid assembly Supplementary Materials.pdf\n"
     ]
    }
   ],
   "source": [
    "ask(\"What is cluster size distribution?\")"
   ]
  }
 ],
 "metadata": {
  "kernelspec": {
   "display_name": "base",
   "language": "python",
   "name": "python3"
  },
  "language_info": {
   "codemirror_mode": {
    "name": "ipython",
    "version": 3
   },
   "file_extension": ".py",
   "mimetype": "text/x-python",
   "name": "python",
   "nbconvert_exporter": "python",
   "pygments_lexer": "ipython3",
   "version": "3.12.7"
  }
 },
 "nbformat": 4,
 "nbformat_minor": 5
}
