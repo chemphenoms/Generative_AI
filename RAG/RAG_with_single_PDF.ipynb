{
 "cells": [
  {
   "cell_type": "code",
   "execution_count": 1,
   "id": "8d352269-3c66-477c-ad32-e07af4d3e822",
   "metadata": {},
   "outputs": [],
   "source": [
    "import os \n",
    "import sys\n",
    "import pypdf\n",
    "\n",
    "from langchain.llms import Ollama\n",
    "from langchain_chroma import Chroma\n",
    "from langchain_community.embeddings.fastembed import FastEmbedEmbeddings\n",
    "from langchain_community.document_loaders import PyPDFLoader\n",
    "from langchain.text_splitter import RecursiveCharacterTextSplitter\n",
    "from langchain.prompts import PromptTemplate\n",
    "from langchain.chains.combine_documents import create_stuff_documents_chain\n",
    "from langchain.chains import create_retrieval_chain"
   ]
  },
  {
   "cell_type": "code",
   "execution_count": 2,
   "id": "f91007da-15d2-4d6a-b91a-7d343e3cb3bd",
   "metadata": {},
   "outputs": [
    {
     "name": "stderr",
     "output_type": "stream",
     "text": [
      "<>:4: SyntaxWarning: invalid escape sequence '\\P'\n",
      "<>:4: SyntaxWarning: invalid escape sequence '\\P'\n",
      "C:\\Users\\chemp\\AppData\\Local\\Temp\\ipykernel_2280\\3473995822.py:4: SyntaxWarning: invalid escape sequence '\\P'\n",
      "  loader = PyPDFLoader(\"D:\\\\Research\\PhD@IITM\\\\My_Research_Papers\\\\IITM\\Published_papers\\\\Pilla_2022_J_Phys_Condens_Matter.pdf\")\n"
     ]
    }
   ],
   "source": [
    "#Creating embeddings of the text from the PDF document\n",
    "def ingest():\n",
    "    #Load the document\n",
    "    loader = PyPDFLoader(\"D:\\\\Research\\PhD@IITM\\\\My_Research_Papers\\\\IITM\\Published_papers\\\\Pilla_2022_J_Phys_Condens_Matter.pdf\")\n",
    "    pages = loader.load_and_split()\n",
    "    \n",
    "    #Split the pages by char\n",
    "    text_splitter = RecursiveCharacterTextSplitter(\n",
    "        chunk_size=1024,\n",
    "        chunk_overlap=100,\n",
    "        length_function=len,\n",
    "        add_start_index=True,\n",
    "    )\n",
    "    chunks = text_splitter.split_documents(pages)\n",
    "    print(f\"Split {len(pages)} documents into {len(chunks)} chunks.\")\n",
    "\n",
    "    #Create embeddings\n",
    "    embedding = FastEmbedEmbeddings()\n",
    "    #Create Vector store\n",
    "    Chroma.from_documents(documents=chunks, \n",
    "                          embedding=embedding, \n",
    "                          persist_directory=\"./sql_chroma_db\")"
   ]
  },
  {
   "cell_type": "code",
   "execution_count": null,
   "id": "7ece4259-879a-4da5-b95b-57a099166b79",
   "metadata": {},
   "outputs": [],
   "source": [
    "#Create an access token from Hugging face and use the same as the read and write token below\n",
    "from huggingface_hub import login\n",
    "access_token_read = \"hf_nMedcrxscgRruLcCMGPcUHbYyqcGxdcuzasEDy\"\n",
    "access_token_write = \"hf_nMedcrxscgRruLcCMGPcUHbYyqcGxdcuzasEDy\"\n",
    "login(token = access_token_read)"
   ]
  },
  {
   "cell_type": "code",
   "execution_count": 52,
   "id": "88aeb71b-66f1-4e6e-9d38-9f8ae56d35c6",
   "metadata": {},
   "outputs": [
    {
     "name": "stdout",
     "output_type": "stream",
     "text": [
      "Split 15 documents into 50 chunks.\n"
     ]
    }
   ],
   "source": [
    "#Run this only once to create the vector database \n",
    "ingest() # I need to run once only for each new pdf document"
   ]
  },
  {
   "cell_type": "code",
   "execution_count": 53,
   "id": "b9082ff9-a132-44de-bce8-329ed0e1631c",
   "metadata": {},
   "outputs": [],
   "source": [
    "def rag_chain():\n",
    "    #model definition\n",
    "    model = Ollama(model=\"llama3\", base_url=\"http://localhost:11434/\", temperature = 0.0)\n",
    "    #Low temperature = less creativity or variation in the answer by the model\n",
    "\n",
    "    #prompt definition\n",
    "    prompt = PromptTemplate.from_template(\n",
    "        \"\"\"\n",
    "        <s> [Instructions] You are a friendly assistant. Answer the question based only on the following context. \n",
    "        If you don't know the answer, then reply, No Context availabel for this question {input}. [/Instructions] </s> \n",
    "        [Instructions] Question: {input} \n",
    "        Context: {context} \n",
    "        Answer: [/Instructions]\n",
    "        \"\"\"\n",
    "    )\n",
    "    \n",
    "    #Load text embeddings from vector store\n",
    "    embedding = FastEmbedEmbeddings()\n",
    "    vector_store = Chroma(persist_directory=\"./sql_chroma_db\", embedding_function=embedding)\n",
    "\n",
    "    #Create chain\n",
    "    retriever = vector_store.as_retriever(\n",
    "        search_type=\"similarity_score_threshold\",\n",
    "        search_kwargs={\n",
    "            \"k\": 3,\n",
    "            \"score_threshold\": 0.5,\n",
    "        },\n",
    "    )\n",
    "\n",
    "    document_chain = create_stuff_documents_chain(model, prompt)\n",
    "    chain = create_retrieval_chain(retriever, document_chain)\n",
    "\n",
    "    return chain"
   ]
  },
  {
   "cell_type": "code",
   "execution_count": 54,
   "id": "5c7f839b-54e0-40f0-a47e-35bf783a8e38",
   "metadata": {},
   "outputs": [
    {
     "name": "stdout",
     "output_type": "stream",
     "text": [
      "chain generated\n"
     ]
    }
   ],
   "source": [
    "chain = rag_chain()\n",
    "print(\"chain generated\")"
   ]
  },
  {
   "cell_type": "code",
   "execution_count": 55,
   "id": "6ee1078f-9a87-41d2-9856-8e553e09fd0b",
   "metadata": {},
   "outputs": [
    {
     "name": "stdout",
     "output_type": "stream",
     "text": [
      "The values of rotational diffusivity used in the paper are:\n",
      "\n",
      "* Dr = 0 (Figure 7(a))\n",
      "* Dr = 0.01 (Figure 7(b))\n",
      "* Dr = 1 (Figure 7(c))\n",
      "* Dr = 4 (Figure 7(d))\n",
      "* Dr = 10 (Figure 7(e))\n",
      "* Dr = 100 (Figure 7(f))\n",
      "\n",
      "Additionally, Figure 8 shows the static structure factor of the system with respect to different rotational diffusivities at constant activity:\n",
      "\n",
      "* Pe = 0 (Figure 8(a))\n",
      "* Pe = 4 (Figure 8(b))\n",
      "* Pe = 15 (Figure 8(c))\n"
     ]
    }
   ],
   "source": [
    "result = chain.invoke({\"input\": \"What are the values of rotational diffusivity used in the paper?\"})\n",
    "print(result[\"answer\"])"
   ]
  },
  {
   "cell_type": "code",
   "execution_count": 60,
   "id": "82d268d2-2fa7-43b4-8c7f-8cfa15b791b5",
   "metadata": {},
   "outputs": [
    {
     "name": "stderr",
     "output_type": "stream",
     "text": [
      "No relevant docs were retrieved using the relevance score threshold 0.5\n"
     ]
    },
    {
     "name": "stdout",
     "output_type": "stream",
     "text": [
      "Answer: \n",
      "\n",
      "The paper has the following sections:\n",
      "\n",
      "1. Introduction\n",
      "2. Literature Review\n",
      "3. Methodology\n",
      "4. Results\n",
      "5. Discussion\n",
      "6. Conclusion\n"
     ]
    }
   ],
   "source": [
    "result1 = chain.invoke({\"input\": \"Can you give me a list of sections in the paper?\"})\n",
    "print(result1[\"answer\"])"
   ]
  },
  {
   "cell_type": "code",
   "execution_count": 67,
   "id": "2bbc5e01-7e1c-4cd5-960c-cfdb295df33a",
   "metadata": {},
   "outputs": [],
   "source": [
    "#Creating a function for the query search\n",
    "def ask(query: str):\n",
    "    #create chain\n",
    "    chain = rag_chain()\n",
    "    #invoke chain\n",
    "    result = chain.invoke({\"input\": query})\n",
    "    #print results with source\n",
    "    print(result[\"answer\"])\n",
    "    for doc in result[\"context\"]:\n",
    "        print(\"Source: \", doc.metadata[\"source\"])"
   ]
  },
  {
   "cell_type": "code",
   "execution_count": 70,
   "id": "62cafc1c-f7c4-4a42-b578-ba29e6015ada",
   "metadata": {},
   "outputs": [
    {
     "name": "stdout",
     "output_type": "stream",
     "text": [
      "What is active colloid?\n",
      "\n",
      "Answer: An active colloid is a synthetic colloidal model system that self-propels, mimicking the motion of biological systems. It is engineered using various physical and chemical processes to exhibit non-equilibrium phenomena, such as motility-induced phase separation, re-entrant phase behavior, and rotating crystals.\n",
      "Source:  D:\\Research\\PhD@IITM\\My_Research_Papers\\IITM\\Published_papers\\Pilla_2022_J_Phys_Condens_Matter.pdf\n",
      "Source:  D:\\Research\\PhD@IITM\\My_Research_Papers\\IITM\\Published_papers\\Pilla_2022_J_Phys_Condens_Matter.pdf\n",
      "Source:  D:\\Research\\PhD@IITM\\My_Research_Papers\\IITM\\Published_papers\\Pilla_2022_J_Phys_Condens_Matter.pdf\n"
     ]
    }
   ],
   "source": [
    "ask(\"What is active colloid?\")"
   ]
  },
  {
   "cell_type": "code",
   "execution_count": null,
   "id": "be0665fd-c6cf-4e2e-8d20-195914aae96c",
   "metadata": {},
   "outputs": [],
   "source": []
  }
 ],
 "metadata": {
  "kernelspec": {
   "display_name": "base",
   "language": "python",
   "name": "python3"
  },
  "language_info": {
   "codemirror_mode": {
    "name": "ipython",
    "version": 3
   },
   "file_extension": ".py",
   "mimetype": "text/x-python",
   "name": "python",
   "nbconvert_exporter": "python",
   "pygments_lexer": "ipython3",
   "version": "3.12.7"
  }
 },
 "nbformat": 4,
 "nbformat_minor": 5
}
